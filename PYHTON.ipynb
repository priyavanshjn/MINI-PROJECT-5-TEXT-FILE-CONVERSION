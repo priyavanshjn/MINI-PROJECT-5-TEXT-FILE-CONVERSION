{
  "nbformat": 4,
  "nbformat_minor": 0,
  "metadata": {
    "colab": {
      "provenance": [],
      "authorship_tag": "ABX9TyP08WkZz7mvo18zpNG0xuOi",
      "include_colab_link": true
    },
    "kernelspec": {
      "name": "python3",
      "display_name": "Python 3"
    },
    "language_info": {
      "name": "python"
    }
  },
  "cells": [
    {
      "cell_type": "markdown",
      "metadata": {
        "id": "view-in-github",
        "colab_type": "text"
      },
      "source": [
        "<a href=\"https://colab.research.google.com/github/priyavanshjn/MINI-PROJECT-5-TEXT-FILE-CONVERSION/blob/main/PYHTON.ipynb\" target=\"_parent\"><img src=\"https://colab.research.google.com/assets/colab-badge.svg\" alt=\"Open In Colab\"/></a>"
      ]
    },
    {
      "cell_type": "code",
      "execution_count": null,
      "metadata": {
        "id": "Xoqg93mj2E49"
      },
      "outputs": [],
      "source": [
        "import matplotlib.pyplot as plt\n",
        "size=[200,400,600,800,1000]\n",
        "\n",
        "python_time = [1.34, 8.3, 9.34, 14.95, 14.03]\n",
        "c_time = [3.21, 6.31, 9.2, 12.1, 14.9]\n",
        "cpp_time = [3.6, 7.0, 10.5, 13.6, 16.5]\n",
        "java_time = [4.2, 8.2, 12.0, 15.5, 18.8]\n",
        "r_time = [5.0, 9.5, 14.0, 18.5, 23.0]\n",
        "\n",
        "plt.figure(figsize=(10, 6))\n",
        "plt.plot(size, c_time, marker='o', label='C')\n",
        "plt.plot(size, cpp_time, marker='s', label='C++')\n",
        "plt.plot(size, java_time, marker='^', label='Java')\n",
        "plt.plot(size, python_time, marker='x', label='Python')\n",
        "plt.plot(size, r_time, marker='d', label='R')\n",
        "\n",
        "plt.xlabel(\"size\")\n",
        "plt.ylabel(\"time taken\")\n",
        "plt.legend()\n",
        "plt.show()"
      ]
    }
  ]
}