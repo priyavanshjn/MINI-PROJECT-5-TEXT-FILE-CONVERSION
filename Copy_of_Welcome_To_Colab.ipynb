{
  "cells": [
    {
      "cell_type": "markdown",
      "metadata": {
        "id": "view-in-github",
        "colab_type": "text"
      },
      "source": [
        "<a href=\"https://colab.research.google.com/github/priyavanshjn/MINI-PROJECT-5-TEXT-FILE-CONVERSION/blob/main/Copy_of_Welcome_To_Colab.ipynb\" target=\"_parent\"><img src=\"https://colab.research.google.com/assets/colab-badge.svg\" alt=\"Open In Colab\"/></a>"
      ]
    },
    {
      "cell_type": "code",
      "source": [
        "#include <stdio.h>\n",
        "#include <stdlib.h>\n",
        "#include <string.h>\n",
        "#include <ctype.h>\n",
        "#include <time.h>\n",
        "\n",
        "void generate_file(const char* filename, int size_mb) {\n",
        "    const char* line = \"this is a line of text for benchmarking purposes.\\n\";\n",
        "    long long count = (long long)(size_mb * 1024 * 1024) / strlen(line);\n",
        "    FILE* f = fopen(filename, \"w\");\n",
        "    for (long long i = 0; i < count; i++) {\n",
        "        fputs(line, f);\n",
        "    }\n",
        "    fclose(f);\n",
        "}\n",
        "\n",
        "double convert_uppercase(const char* input_file, const char* output_file) {\n",
        "    FILE* in = fopen(input_file, \"r\");\n",
        "    FILE* out = fopen(output_file, \"w\");\n",
        "    if (!in || !out) return -1;\n",
        "    clock_t start = clock();\n",
        "    int ch;\n",
        "    while ((ch = fgetc(in)) != EOF) {\n",
        "        fputc(toupper(ch), out);\n",
        "    }\n",
        "    clock_t end = clock();\n",
        "    fclose(in);\n",
        "    fclose(out);\n",
        "    return (double)(end - start) / CLOCKS_PER_SEC;\n",
        "}\n",
        "\n",
        "int main() {\n",
        "    int sizes[] = {200, 400, 600, 800, 1000};\n",
        "    for (int i = 0; i < 5; i++) {\n",
        "        char in_file[30], out_file[30];\n",
        "        sprintf(in_file, \"input_%dMB.txt\", sizes[i]);\n",
        "        sprintf(out_file, \"output_%dMB.txt\", sizes[i]);\n",
        "        printf(\"Generating %s...\\n\", in_file);\n",
        "        generate_file(in_file, sizes[i]);\n",
        "        printf(\"Converting %s to uppercase...\\n\", in_file);\n",
        "        double time_taken = convert_uppercase(in_file, out_file);\n",
        "        printf(\"Size: %dMB | Time: %.2f sec\\n\", sizes[i], time_taken);\n",
        "    }\n",
        "    return 0;\n",
        "}"
      ],
      "metadata": {
        "id": "RUKs8JAYzfLj"
      },
      "execution_count": null,
      "outputs": []
    }
  ],
  "metadata": {
    "colab": {
      "toc_visible": true,
      "provenance": [],
      "include_colab_link": true
    },
    "kernelspec": {
      "display_name": "Python 3",
      "name": "python3"
    }
  },
  "nbformat": 4,
  "nbformat_minor": 0
}